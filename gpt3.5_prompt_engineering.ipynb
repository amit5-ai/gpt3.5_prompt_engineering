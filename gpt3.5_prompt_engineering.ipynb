{
 "cells": [
  {
   "cell_type": "markdown",
   "id": "fb99b22f",
   "metadata": {},
   "source": [
    "### Demonstrating some prompting principles and tactics to write effective prompts for large language models."
   ]
  },
  {
   "cell_type": "code",
   "execution_count": 1,
   "id": "c736d69a",
   "metadata": {},
   "outputs": [
    {
     "name": "stdout",
     "output_type": "stream",
     "text": [
      "Requirement already satisfied: openai in c:\\users\\amit.tewari\\appdata\\roaming\\python\\python38\\site-packages (1.13.3)\n",
      "Requirement already satisfied: anyio<5,>=3.5.0 in c:\\users\\amit.tewari\\appdata\\roaming\\python\\python38\\site-packages (from openai) (4.3.0)\n",
      "Requirement already satisfied: tqdm>4 in c:\\users\\amit.tewari\\appdata\\roaming\\python\\python38\\site-packages (from openai) (4.64.1)\n",
      "Requirement already satisfied: distro<2,>=1.7.0 in c:\\users\\amit.tewari\\appdata\\roaming\\python\\python38\\site-packages (from openai) (1.9.0)\n",
      "Requirement already satisfied: pydantic<3,>=1.9.0 in c:\\users\\amit.tewari\\appdata\\roaming\\python\\python38\\site-packages (from openai) (2.6.3)\n",
      "Requirement already satisfied: httpx<1,>=0.23.0 in c:\\users\\amit.tewari\\appdata\\roaming\\python\\python38\\site-packages (from openai) (0.27.0)\n",
      "Requirement already satisfied: sniffio in c:\\programdata\\anaconda3\\lib\\site-packages (from openai) (1.2.0)\n",
      "Requirement already satisfied: typing-extensions<5,>=4.7 in c:\\users\\amit.tewari\\appdata\\roaming\\python\\python38\\site-packages (from openai) (4.10.0)\n",
      "Requirement already satisfied: idna>=2.8 in c:\\programdata\\anaconda3\\lib\\site-packages (from anyio<5,>=3.5.0->openai) (2.10)\n",
      "Requirement already satisfied: exceptiongroup>=1.0.2 in c:\\users\\amit.tewari\\appdata\\roaming\\python\\python38\\site-packages (from anyio<5,>=3.5.0->openai) (1.2.0)\n",
      "Requirement already satisfied: httpcore==1.* in c:\\users\\amit.tewari\\appdata\\roaming\\python\\python38\\site-packages (from httpx<1,>=0.23.0->openai) (1.0.4)\n",
      "Requirement already satisfied: certifi in c:\\programdata\\anaconda3\\lib\\site-packages (from httpx<1,>=0.23.0->openai) (2020.12.5)\n",
      "Requirement already satisfied: h11<0.15,>=0.13 in c:\\users\\amit.tewari\\appdata\\roaming\\python\\python38\\site-packages (from httpcore==1.*->httpx<1,>=0.23.0->openai) (0.14.0)\n",
      "Requirement already satisfied: annotated-types>=0.4.0 in c:\\users\\amit.tewari\\appdata\\roaming\\python\\python38\\site-packages (from pydantic<3,>=1.9.0->openai) (0.6.0)\n",
      "Requirement already satisfied: pydantic-core==2.16.3 in c:\\users\\amit.tewari\\appdata\\roaming\\python\\python38\\site-packages (from pydantic<3,>=1.9.0->openai) (2.16.3)\n",
      "Requirement already satisfied: colorama in c:\\programdata\\anaconda3\\lib\\site-packages (from tqdm>4->openai) (0.4.4)\n"
     ]
    }
   ],
   "source": [
    "# !pip install openai --user"
   ]
  },
  {
   "cell_type": "code",
   "execution_count": 2,
   "id": "e231a563",
   "metadata": {},
   "outputs": [],
   "source": [
    "import openai\n",
    "import os\n",
    "\n",
    "f = open(\"OPENAI_API_KEY.txt\", \"r\")\n",
    "openai_api_key = f.read()"
   ]
  },
  {
   "cell_type": "markdown",
   "id": "b1573077",
   "metadata": {},
   "source": [
    "#### Throughout I will use OpenAI's gpt-3.5-turbo model and chat completions endpoint https://platform.openai.com/docs/guides/text-generation/chat-completions-api"
   ]
  },
  {
   "cell_type": "code",
   "execution_count": 3,
   "id": "9078d384",
   "metadata": {},
   "outputs": [],
   "source": [
    "client = openai.OpenAI(api_key=openai_api_key)\n",
    "\n",
    "def get_completion(prompt, model=\"gpt-3.5-turbo\"):\n",
    "    messages = [{\"role\": \"user\", \"content\": prompt}]\n",
    "    response = client.chat.completions.create(\n",
    "        model=model,\n",
    "        messages=messages,\n",
    "        temperature=0\n",
    "    )\n",
    "    return response.choices[0].message.content"
   ]
  },
  {
   "cell_type": "code",
   "execution_count": 4,
   "id": "adf0af71",
   "metadata": {},
   "outputs": [
    {
     "name": "stdout",
     "output_type": "stream",
     "text": [
      "GPT-3 is a large language model released by OpenAI in 2020, which is a decoder-only transformer model that utilizes attention instead of recurrence and convolution-based architectures.\n"
     ]
    }
   ],
   "source": [
    "# Use delimiters to clearly indicate distinct parts of the input\n",
    "\n",
    "text = f\"\"\"\n",
    "Generative Pre-trained Transformer 3 (GPT-3) is a large language model \\\n",
    "released by OpenAI in 2020. Like its predecessor, GPT-2, \\\n",
    "it is a decoder-only transformer model of deep neural network, \\\n",
    "which supersedes recurrence and convolution-based architectures \\\n",
    "with a technique known as \"attention\n",
    "\"\"\"\n",
    "prompt = f\"\"\"\n",
    "Summarize the text delimited by triple backticks \\ \n",
    "into a single sentence.\n",
    "```{text}```\n",
    "\"\"\"\n",
    "response = get_completion(prompt)\n",
    "print(response)"
   ]
  },
  {
   "cell_type": "code",
   "execution_count": 5,
   "id": "fe20c4e4",
   "metadata": {},
   "outputs": [
    {
     "name": "stdout",
     "output_type": "stream",
     "text": [
      "<teacher>: Honesty is like a sturdy foundation upon which trust and integrity are built. It involves being truthful in our words and actions, even when it may be difficult. Just as a house stands strong with a solid foundation, relationships thrive when honesty is at the core.\n"
     ]
    }
   ],
   "source": [
    "# \"Few-shot\" prompting\n",
    "\n",
    "prompt = f\"\"\"\n",
    "Your task is to answer in a consistent style.\n",
    "\n",
    "<student>: Teach me about happiness.\n",
    "\n",
    "<teacher>:  Happiness is like a garden that must be tended \\\n",
    "with care and patience. It is found in the simple joys of life, \\\n",
    "in moments of gratitude and contentment. Just as a flower blooms \\\n",
    "after being nurtured, happiness blossoms when we cultivate positivity \\\n",
    "\n",
    "and kindness in our hearts.\n",
    "\n",
    "<student>: Teach me about honesty.\n",
    "\"\"\"\n",
    "response = get_completion(prompt)\n",
    "print(response)\n"
   ]
  },
  {
   "cell_type": "code",
   "execution_count": 7,
   "id": "4ab5877b",
   "metadata": {},
   "outputs": [
    {
     "name": "stdout",
     "output_type": "stream",
     "text": [
      "Completion for prompt 1:\n",
      "1 - Humpty Dumpty had a great fall from a wall and couldn't be put back together by the king's horses and men.\n",
      "\n",
      "2 - Humpty Dumpty tuvo una gran caída desde una pared y no pudo ser vuelto a armar por los caballos y hombres del rey.\n",
      "\n",
      "3 - Humpty Dumpty\n",
      "\n",
      "4 - \n",
      "{\n",
      "  \"Spanish_summary\": \"Humpty Dumpty tuvo una gran caída desde una pared y no pudo ser vuelto a armar por los caballos y hombres del rey.\",\n",
      "  \"num_names\": 1\n",
      "}\n"
     ]
    }
   ],
   "source": [
    "# Specify the steps required to complete a task\n",
    "\n",
    "text = f\"\"\"\n",
    "Humpty Dumpty sat on a wall \\\n",
    "Humpty Dumpty had a great fall; \\\n",
    "All the king's horses and all the king's men \\\n",
    "Couldn't put Humpty together again.\n",
    "\"\"\"\n",
    "# example 1\n",
    "prompt_1 = f\"\"\"\n",
    "Perform the following actions: \n",
    "1 - Summarize the following text delimited by triple \\\n",
    "backticks with 1 sentence.\n",
    "2 - Translate the summary into Spanish.\n",
    "3 - List each name in the Hindi summary.\n",
    "4 - Output a json object that contains the following \\\n",
    "keys: Spanish_summary, num_names.\n",
    "\n",
    "Separate your answers with line breaks.\n",
    "\n",
    "Text:\n",
    "```{text}```\n",
    "\"\"\"\n",
    "response = get_completion(prompt_1)\n",
    "print(\"Completion for prompt 1:\")\n",
    "print(response)"
   ]
  },
  {
   "cell_type": "code",
   "execution_count": 9,
   "id": "ac78874a",
   "metadata": {},
   "outputs": [
    {
     "name": "stdout",
     "output_type": "stream",
     "text": [
      "The student's solution is incorrect. \n",
      "\n",
      "The correct way to calculate the total number of days in which 2 men and 3 women working together can build the wall is as follows:\n",
      "\n",
      "Let's assume that the total work required to build the wall is 1 unit.\n",
      "\n",
      "1 man can build the wall in x days, so in one day, 1 man can complete 1/x of the work.\n",
      "Similarly, 1 woman can build the wall in y days, so in one day, 1 woman can complete 1/y of the work.\n",
      "\n",
      "Therefore, in one day, 2 men and 3 women working together can complete:\n",
      "2/x (work done by 2 men) + 3/y (work done by 3 women) = (2/x) + (3/y)\n",
      "\n",
      "To find the total number of days required for 2 men and 3 women to complete the work, we need to divide the total work (1 unit) by the work done in one day by 2 men and 3 women:\n",
      "Total days = 1 / ((2/x) + (3/y))\n",
      "Total days = xy / (2y + 3x)\n",
      "\n",
      "Therefore, the correct formula for the total number of days required for 2 men and 3 women to build the wall is xy / (2y + 3x).\n"
     ]
    }
   ],
   "source": [
    "# Instruct the model to work out its own solution before rushing to a conclusion\n",
    "\n",
    "prompt = f\"\"\"\n",
    "Determine if the student's solution is correct or not.\n",
    "\n",
    "Question:\n",
    "I'm building a wall and I need \\\n",
    " help working out the total days required to build the wall. \n",
    "- 1 man builds the wall in x days \\\n",
    "- 1 woman can build the wall in y days \\\n",
    "What is the total number of days in which 2 man and 3 woman working together can build the wall?\n",
    "\n",
    "Student's Solution:\n",
    "1. One man will build in 1 day : 1/x wall\n",
    "2. One woman in one day can build 1/y wall\n",
    "3. 2 man and 3 woman working together can build ((2/x) + (3/y)) wall in one day\n",
    "2 man and 3 woman working togther will complete the wall in: (x*y*2)/((2*y)+(3*x))\n",
    "\"\"\"\n",
    "response = get_completion(prompt)\n",
    "print(response)"
   ]
  },
  {
   "cell_type": "code",
   "execution_count": 12,
   "id": "a5449fcf",
   "metadata": {},
   "outputs": [
    {
     "name": "stdout",
     "output_type": "stream",
     "text": [
      "Let's assume the total wall to be built is represented by W.\n",
      "\n",
      "1. One man builds the wall in x days, so in one day, the man can build 1/x of the wall.\n",
      "2. One woman builds the wall in y days, so in one day, the woman can build 1/y of the wall.\n",
      "3. Therefore, 2 men working together can build 2/x of the wall in one day, and 3 women working together can build 3/y of the wall in one day.\n",
      "4. The total work done by 2 men and 3 women working together in one day is (2/x) + (3/y) of the wall.\n",
      "5. To find the total number of days required for 2 men and 3 women to build the wall, we need to divide the total work (W) by the combined work rate of 2 men and 3 women.\n",
      "6. So, the total number of days required = W / ((2/x) + (3/y)) = W / ((2y + 3x) / xy) = W * (xy / (2y + 3x))\n",
      "\n",
      "Therefore, the total number of days required for 2 men and 3 women working together to build the wall is W * (xy / (2y + 3x)).\n",
      "\n",
      "So, the student's solution is incorrect.\n",
      "\n",
      "Actual solution:\n",
      "Total number of days = W * (xy / (2y + 3x))\n",
      "\n",
      "Is the student's solution the same as the actual solution just calculated:\n",
      "```\n",
      "No\n",
      "```\n",
      "\n",
      "Student grade:\n",
      "```\n",
      "incorrect\n",
      "```\n"
     ]
    }
   ],
   "source": [
    "# the previous solution may not be correct therefore fix this by instructing the model to work out its own solution first.\n",
    "\n",
    "# Instruct the model to work out its own solution before rushing to a conclusion\n",
    "\n",
    "prompt = f\"\"\"\n",
    "\n",
    "Your task is to determine if the student's solution \\\n",
    "is correct or not.\n",
    "To solve the problem do the following:\n",
    "- First, work out your own solution to the problem including the final total. \n",
    "- Then compare your solution to the student's solution \\ \n",
    "and evaluate if the student's solution is correct or not. \n",
    "Don't decide if the student's solution is correct until \n",
    "you have done the problem yourself.\n",
    "\n",
    "Use the following format:\n",
    "Question:\n",
    "```\n",
    "question here\n",
    "```\n",
    "Student's solution:\n",
    "```\n",
    "student's solution here\n",
    "```\n",
    "Actual solution:\n",
    "```\n",
    "steps to work out the solution and your solution here\n",
    "```\n",
    "Is the student's solution the same as actual solution \\\n",
    "just calculated:\n",
    "```\n",
    "yes or no\n",
    "```\n",
    "Student grade:\n",
    "```\n",
    "correct or incorrect\n",
    "```\n",
    "\n",
    "Question:\n",
    "```\n",
    "\n",
    "I'm building a wall and I need \\\n",
    " help working out the total days required to build the wall. \n",
    "- 1 man builds the wall in x days \\\n",
    "- 1 woman can build the wall in y days \\\n",
    "What is the total number of days in which 2 man and 3 woman working together can build the wall?\n",
    "\n",
    "```\n",
    "\n",
    "Student's Solution:\n",
    "```\n",
    "1. One man will build in 1 day : 1/x wall\n",
    "2. One woman in one day can build 1/y wall\n",
    "3. 2 man and 3 woman working together can build ((2/x) + (3/y)) wall in one day\n",
    "2 man and 3 woman working togther will complete the wall in: (x*y*2)/((2*y)+(3*x))\n",
    "```\n",
    "\n",
    "Actual solution:\n",
    "\"\"\"\n",
    "response = get_completion(prompt)\n",
    "print(response)"
   ]
  },
  {
   "cell_type": "code",
   "execution_count": 17,
   "id": "459bd365",
   "metadata": {},
   "outputs": [
    {
     "name": "stdout",
     "output_type": "stream",
     "text": [
      "Jiffy car is a concept car developed by Toyota that was unveiled at the 2017 Tokyo Motor Show. The Jiffy car is a compact electric vehicle designed for short-distance urban transportation. It features a minimalist design with a small footprint, making it ideal for navigating crowded city streets.\n",
      "\n",
      "The Jiffy car is equipped with advanced technology, including autonomous driving capabilities and a digital interface that allows users to easily book and pay for rides. The interior of the car is designed to be comfortable and spacious, with seating for up to two passengers.\n",
      "\n",
      "Overall, the Jiffy car by Toyota represents the company's vision for the future of urban mobility, with a focus on sustainability, convenience, and innovation.\n"
     ]
    }
   ],
   "source": [
    "# Model Limitations: Hallucinations\n",
    "\n",
    "prompt = f\"\"\"\n",
    "Tell me about Jiffy car by Toyota\n",
    "\n",
    "\"\"\"\n",
    "response = get_completion(prompt)\n",
    "print(response)"
   ]
  },
  {
   "cell_type": "code",
   "execution_count": 20,
   "id": "2868495f",
   "metadata": {},
   "outputs": [],
   "source": [
    "# Customize the automated reply to a customer enquiry email reagrding Elevate products and services"
   ]
  },
  {
   "cell_type": "code",
   "execution_count": 27,
   "id": "d401d39d",
   "metadata": {},
   "outputs": [],
   "source": [
    "# given the sentiment from the lesson on \"inferring\",\n",
    "# and the original customer message, customize the email\n",
    "sentiment = \"soliciting\"\n",
    "\n",
    "# email\n",
    "email = f\"\"\"\n",
    "Hi  \\\n",
    "Hope you are doing well \\\n",
    "Regarding XYZ's offerings Artificial Intelligence (AI) and Data Science, \\\n",
    "I am looking to explore the same for capabiities for automating contract review. \\ \n",
    "Can we connect to better exlore the synergies\\\n",
    "Warm regards\n",
    "Clara\n",
    "\"\"\""
   ]
  },
  {
   "cell_type": "code",
   "execution_count": 28,
   "id": "389c1f75",
   "metadata": {},
   "outputs": [
    {
     "name": "stdout",
     "output_type": "stream",
     "text": [
      "Subject: Re: Exploring AI and Data Science for Contract Review Automation\n",
      "\n",
      "Hi Clara,\n",
      "\n",
      "Thank you for reaching out and expressing interest in exploring XYZ's offerings in Artificial Intelligence (AI) and Data Science for automating contract review. I appreciate your interest in discovering synergies in this area.\n",
      "\n",
      "I would be more than happy to connect with you to discuss how our solutions can meet your specific needs. When would be a convenient time for you to schedule a call?\n",
      "\n",
      "Looking forward to exploring the possibilities with you.\n",
      "\n",
      "Warm regards,\n",
      "John\n",
      "Customer Success Manager\n"
     ]
    }
   ],
   "source": [
    "prompt = f\"\"\"\n",
    "You are a customer service AI assistant.\n",
    "Your task is to send an email reply to a prospective customer.\n",
    "Given the customer email delimited by ```, \\\n",
    "Generate a reply to thank the customer for their email.\n",
    "Make sure to use specific details from the email.\n",
    "Write in a concise and professional tone.\n",
    "Sign the email as `John with designation as Customer Success Manager`.\n",
    "Customer review: ```{email}```\n",
    "Reply sentiment: {sentiment}\n",
    "\"\"\"\n",
    "response = get_completion(prompt)\n",
    "print(response)"
   ]
  },
  {
   "cell_type": "code",
   "execution_count": null,
   "id": "072244bd",
   "metadata": {},
   "outputs": [],
   "source": []
  }
 ],
 "metadata": {
  "kernelspec": {
   "display_name": "Python 3",
   "language": "python",
   "name": "python3"
  },
  "language_info": {
   "codemirror_mode": {
    "name": "ipython",
    "version": 3
   },
   "file_extension": ".py",
   "mimetype": "text/x-python",
   "name": "python",
   "nbconvert_exporter": "python",
   "pygments_lexer": "ipython3",
   "version": "3.8.8"
  }
 },
 "nbformat": 4,
 "nbformat_minor": 5
}
